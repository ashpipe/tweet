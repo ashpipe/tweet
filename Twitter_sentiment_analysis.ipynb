{
  "nbformat": 4,
  "nbformat_minor": 0,
  "metadata": {
    "colab": {
      "provenance": []
    },
    "kernelspec": {
      "name": "python3",
      "display_name": "Python 3"
    },
    "language_info": {
      "name": "python"
    }
  },
  "cells": [
    {
      "cell_type": "code",
      "execution_count": 1,
      "metadata": {
        "id": "ALICT2faXgsG",
        "colab": {
          "base_uri": "https://localhost:8080/"
        },
        "outputId": "b4fbb44d-baa1-4798-8f3d-70f6cd4ed7da"
      },
      "outputs": [
        {
          "output_type": "stream",
          "name": "stderr",
          "text": [
            "[nltk_data] Downloading package twitter_samples to /root/nltk_data...\n",
            "[nltk_data]   Package twitter_samples is already up-to-date!\n",
            "[nltk_data] Downloading package stopwords to /root/nltk_data...\n",
            "[nltk_data]   Package stopwords is already up-to-date!\n"
          ]
        }
      ],
      "source": [
        "from utils import Layer, load_tweets#, process_tweet\n",
        "import numpy as np\n",
        "import tensorflow as tf\n",
        "from tensorflow.keras.models import Model\n",
        "from tensorflow.keras.layers import Dense, Input, Dropout, LSTM, Activation\n",
        "from tensorflow.keras.layers import Embedding\n",
        "from tensorflow.keras.preprocessing import sequence\n",
        "from tensorflow.keras.initializers import glorot_uniform\n",
        "\n",
        "import re\n",
        "import string\n",
        "\n",
        "from nltk.corpus import stopwords\n",
        "from nltk.stem import PorterStemmer\n",
        "from nltk.tokenize import TweetTokenizer"
      ]
    },
    {
      "cell_type": "code",
      "source": [
        "def train_val_split():\n",
        "    # Load positive and negative tweets\n",
        "    all_positive_tweets, all_negative_tweets = load_tweets()\n",
        "\n",
        "    # View the total number of positive and negative tweets.\n",
        "    print(f\"The number of positive tweets: {len(all_positive_tweets)}\")\n",
        "    print(f\"The number of negative tweets: {len(all_negative_tweets)}\")\n",
        "\n",
        "    # Split positive set into validation and training\n",
        "    val_pos   = all_positive_tweets[4000:] # generating validation set for positive tweets\n",
        "    train_pos  = all_positive_tweets[:4000]# generating training set for positive tweets\n",
        "\n",
        "    # Split negative set into validation and training\n",
        "    val_neg   = all_negative_tweets[4000:] # generating validation set for negative tweets\n",
        "    train_neg  = all_negative_tweets[:4000] # generating training set for nagative tweets\n",
        "    \n",
        "    # Combine training data into one set\n",
        "    train_x = train_pos + train_neg \n",
        "\n",
        "    # Combine validation data into one set\n",
        "    val_x  = val_pos + val_neg\n",
        "\n",
        "    # Set the labels for the training set (1 for positive, 0 for negative)\n",
        "    train_y = np.append(np.ones(len(train_pos)), np.zeros(len(train_neg)))\n",
        "\n",
        "    # Set the labels for the validation set (1 for positive, 0 for negative)\n",
        "    val_y  = np.append(np.ones(len(val_pos)), np.zeros(len(val_neg)))\n",
        "\n",
        "\n",
        "    return train_pos, train_neg, train_x, train_y, val_pos, val_neg, val_x, val_y\n",
        "\n",
        "train_pos, train_neg, train_x, train_y, val_pos, val_neg, val_x, val_y = train_val_split()\n",
        "\n",
        "print(f\"length of train_x {len(train_x)}\")\n",
        "print(f\"length of val_x {len(val_x)}\")"
      ],
      "metadata": {
        "colab": {
          "base_uri": "https://localhost:8080/"
        },
        "id": "fFQrWG04X298",
        "outputId": "82ed6898-f6b2-4b58-83e1-2da7bbd48912"
      },
      "execution_count": 2,
      "outputs": [
        {
          "output_type": "stream",
          "name": "stdout",
          "text": [
            "The number of positive tweets: 5000\n",
            "The number of negative tweets: 5000\n",
            "length of train_x 8000\n",
            "length of val_x 2000\n"
          ]
        }
      ]
    },
    {
      "cell_type": "code",
      "source": [
        "def read_glove_vecs(glove_file):\n",
        "    with open(glove_file, 'r') as f:\n",
        "        words = set()\n",
        "        word_to_vec_map = {}\n",
        "        for line in f:\n",
        "            line = line.strip().split()\n",
        "            curr_word = line[0]\n",
        "            words.add(curr_word)\n",
        "            word_to_vec_map[curr_word] = np.array(line[1:], dtype=np.float64)\n",
        "        \n",
        "        i = 1\n",
        "        words_to_index = {}\n",
        "        index_to_words = {}\n",
        "        for w in sorted(words):\n",
        "            words_to_index[w] = i\n",
        "            index_to_words[i] = w\n",
        "            i = i + 1\n",
        "    return words_to_index, index_to_words, word_to_vec_map\n",
        "\n",
        "word_to_index, index_to_word, word_to_vec_map = read_glove_vecs('glove.6B.50d.txt')"
      ],
      "metadata": {
        "id": "OQcGh3q0c25H"
      },
      "execution_count": 3,
      "outputs": []
    },
    {
      "cell_type": "code",
      "source": [
        "def process_tweet(tweet):\n",
        "    '''\n",
        "    Input:\n",
        "        tweet: a string containing a tweet\n",
        "    Output:\n",
        "        tweets_clean: a list of words containing the processed tweet\n",
        "\n",
        "    '''\n",
        "    stemmer = PorterStemmer()\n",
        "    stopwords_english = stopwords.words('english')\n",
        "    # remove stock market tickers like $GE\n",
        "    tweet = re.sub(r'\\$\\w*', '', tweet)\n",
        "    # remove old style retweet text \"RT\"\n",
        "    tweet = re.sub(r'^RT[\\s]+', '', tweet)\n",
        "    # remove hyperlinks\n",
        "    #tweet = re.sub(r'https?:\\/\\/.*[\\r\\n]*', '', tweet)\n",
        "    tweet = re.sub(r'https?://[^\\s\\n\\r]+', '', tweet)\n",
        "    # remove hashtags\n",
        "    # only removing the hash # sign from the word\n",
        "    tweet = re.sub(r'#', '', tweet)\n",
        "    # tokenize tweets\n",
        "    tokenizer = TweetTokenizer(preserve_case=False, strip_handles=True,\n",
        "                               reduce_len=True)\n",
        "    tweet_tokens = tokenizer.tokenize(tweet)\n",
        "\n",
        "    tweets_clean = []\n",
        "    for word in tweet_tokens:\n",
        "        if (word not in stopwords_english and  # remove stopwords\n",
        "            word not in string.punctuation):  # remove punctuation\n",
        "        #if word not in string.punctuation:\n",
        "            # tweets_clean.append(word)\n",
        "            stem_word = word #stemmer.stem(word)  # stemming word\n",
        "            tweets_clean.append(stem_word)\n",
        "\n",
        "    return tweets_clean\n",
        "\n",
        "process_tweet(train_x[0])"
      ],
      "metadata": {
        "colab": {
          "base_uri": "https://localhost:8080/"
        },
        "id": "80HVM_jHedn6",
        "outputId": "ee27c530-f1c2-4ede-87c4-1b0b8953a7d6"
      },
      "execution_count": 4,
      "outputs": [
        {
          "output_type": "execute_result",
          "data": {
            "text/plain": [
              "['followfriday', 'top', 'engaged', 'members', 'community', 'week', ':)']"
            ]
          },
          "metadata": {},
          "execution_count": 4
        }
      ]
    },
    {
      "cell_type": "code",
      "source": [
        "# Try out function that processes tweets\n",
        "print(\"original tweet at training position 0\")\n",
        "print(train_pos[0])\n",
        "\n",
        "print(\"Tweet at training position 0 after processing:\")\n",
        "process_tweet(train_pos[0])"
      ],
      "metadata": {
        "colab": {
          "base_uri": "https://localhost:8080/"
        },
        "id": "3q-XE67BX_vI",
        "outputId": "3bf09b18-53d8-48f2-f57f-bdb030277901"
      },
      "execution_count": 5,
      "outputs": [
        {
          "output_type": "stream",
          "name": "stdout",
          "text": [
            "original tweet at training position 0\n",
            "#FollowFriday @France_Inte @PKuchly57 @Milipol_Paris for being top engaged members in my community this week :)\n",
            "Tweet at training position 0 after processing:\n"
          ]
        },
        {
          "output_type": "execute_result",
          "data": {
            "text/plain": [
              "['followfriday', 'top', 'engaged', 'members', 'community', 'week', ':)']"
            ]
          },
          "metadata": {},
          "execution_count": 5
        }
      ]
    },
    {
      "cell_type": "code",
      "source": [
        "def sentences_to_indices(X, word_to_index, max_len):\n",
        "    \"\"\"\n",
        "    Converts an array of sentences (strings) into an array of indices corresponding to words in the sentences.\n",
        "    The output shape should be such that it can be given to `Embedding()` (described in Figure 4). \n",
        "    \n",
        "    Arguments:\n",
        "    X -- array of sentences (strings), of shape (m,)\n",
        "    word_to_index -- a dictionary containing the each word mapped to its index\n",
        "    max_len -- maximum number of words in a sentence. You can assume every sentence in X is no longer than this. \n",
        "    \n",
        "    Returns:\n",
        "    X_indices -- array of indices corresponding to words in the sentences from X, of shape (m, max_len)\n",
        "    \"\"\"\n",
        "    \n",
        "    m = X.shape[0]                                   # number of training examples\n",
        "    \n",
        "    ### START CODE HERE ###\n",
        "    # Initialize X_indices as a numpy matrix of zeros and the correct shape (≈ 1 line)\n",
        "    X_indices = np.zeros((m,max_len))\n",
        "    \n",
        "    for i in range(m):                               # loop over training examples\n",
        "        \n",
        "        # Convert the ith training sentence in lower case and split is into words. You should get a list of words.\n",
        "        #sentence_words = X[i].lower().split()\n",
        "        sentence_words = process_tweet(X[i].lower())\n",
        "        \n",
        "        # Initialize j to 0\n",
        "        j = 0\n",
        "        \n",
        "        # Loop over the words of sentence_words\n",
        "\n",
        "        for w in sentence_words:\n",
        "            # if w exists in the word_to_index dictionary\n",
        "            if w in word_to_index:\n",
        "                # Set the (i,j)th entry of X_indices to the index of the correct word.\n",
        "                X_indices[i, j] = word_to_index[w]\n",
        "                # Increment j to j + 1\n",
        "                j =  j+1\n",
        "            \n",
        "    ### END CODE HERE ###\n",
        "    \n",
        "    return X_indices\n",
        "\n",
        "X1 = np.array([\"funny lol\", \"lets play baseball\", \"food is ready for you\", train_x[0]],)\n",
        "X1_indices = sentences_to_indices(X1, word_to_index, max_len=10)\n",
        "print(\"X1 =\", X1)\n",
        "print(\"X1_indices =\\n\", X1_indices)"
      ],
      "metadata": {
        "colab": {
          "base_uri": "https://localhost:8080/"
        },
        "id": "7OaSLjRgc3Tt",
        "outputId": "2f95e7aa-f79d-48a5-ee14-72b6dfe7dcfa"
      },
      "execution_count": 11,
      "outputs": [
        {
          "output_type": "stream",
          "name": "stdout",
          "text": [
            "X1 = ['funny lol' 'lets play baseball' 'food is ready for you'\n",
            " '#FollowFriday @France_Inte @PKuchly57 @Milipol_Paris for being top engaged members in my community this week :)']\n",
            "X1_indices =\n",
            " [[155345. 225122.      0.      0.      0.      0.      0.      0.      0.\n",
            "       0.]\n",
            " [220930. 286375.  69714.      0.      0.      0.      0.      0.      0.\n",
            "       0.]\n",
            " [151204. 302254.      0.      0.      0.      0.      0.      0.      0.\n",
            "       0.]\n",
            " [362050. 137337. 240688. 106074. 384714.  42869.      0.      0.      0.\n",
            "       0.]]\n"
          ]
        }
      ]
    },
    {
      "cell_type": "code",
      "source": [
        "def pretrained_embedding_layer(word_to_vec_map, word_to_index):\n",
        "    \"\"\"\n",
        "    Creates a Keras Embedding() layer and loads in pre-trained GloVe 50-dimensional vectors.\n",
        "    \n",
        "    Arguments:\n",
        "    word_to_vec_map -- dictionary mapping words to their GloVe vector representation.\n",
        "    word_to_index -- dictionary mapping from words to their indices in the vocabulary (400,001 words)\n",
        "\n",
        "    Returns:\n",
        "    embedding_layer -- pretrained layer Keras instance\n",
        "    \"\"\"\n",
        "    \n",
        "    vocab_size = len(word_to_index) + 1              # adding 1 to fit Keras embedding (requirement)\n",
        "    any_word = list(word_to_vec_map.keys())[0]\n",
        "    emb_dim = word_to_vec_map[any_word].shape[0]    # define dimensionality of your GloVe word vectors (= 50)\n",
        "      \n",
        "    ### START CODE HERE ###\n",
        "    # Step 1\n",
        "    # Initialize the embedding matrix as a numpy array of zeros.\n",
        "    # See instructions above to choose the correct shape.\n",
        "    emb_matrix = np.zeros((vocab_size, emb_dim))\n",
        "    \n",
        "    # Step 2\n",
        "    # Set each row \"idx\" of the embedding matrix to be \n",
        "    # the word vector representation of the idx'th word of the vocabulary\n",
        "    for word, idx in word_to_index.items():\n",
        "        try:\n",
        "            emb_matrix[idx, :] = word_to_vec_map[word]\n",
        "        except:\n",
        "            # \"revealed\" has only 40 dimension\n",
        "            emb_matrix[idx, :] = np.append(word_to_vec_map[word], np.zeros(10))\n",
        "\n",
        "    # Step 3\n",
        "    # Define Keras embedding layer with the correct input and output sizes\n",
        "    # Make it non-trainable.\n",
        "    embedding_layer = Embedding(vocab_size, emb_dim, trainable=False)\n",
        "    ### END CODE HERE ###\n",
        "\n",
        "    # Step 4 (already done for you; please do not modify)\n",
        "    # Build the embedding layer, it is required before setting the weights of the embedding layer. \n",
        "    embedding_layer.build((None,)) # Do not modify the \"None\".  This line of code is complete as-is.\n",
        "    \n",
        "    # Set the weights of the embedding layer to the embedding matrix. Your layer is now pretrained.\n",
        "    embedding_layer.set_weights([emb_matrix])\n",
        "    \n",
        "    return embedding_layer"
      ],
      "metadata": {
        "id": "ysBVb0ZTnd8c"
      },
      "execution_count": 13,
      "outputs": []
    },
    {
      "cell_type": "code",
      "source": [
        "def sentiment_analyze(input_shape, word_to_vec_map, word_to_index):\n",
        "    \"\"\"\n",
        "    Function creating the sentiment analyze model's graph.\n",
        "    \n",
        "    Arguments:\n",
        "    input_shape -- shape of the input, usually (max_len,)\n",
        "    word_to_vec_map -- dictionary mapping every word in a vocabulary into its 50-dimensional vector representation\n",
        "    word_to_index -- dictionary mapping from words to their indices in the vocabulary (400,001 words)\n",
        "\n",
        "    Returns:\n",
        "    model -- a model instance in Keras\n",
        "    \"\"\"\n",
        "    \n",
        "    ### START CODE HERE ###\n",
        "    # Define sentence_indices as the input of the graph.\n",
        "    # It should be of shape input_shape and dtype 'int32' (as it contains indices, which are integers).\n",
        "    sentence_indices = Input(shape=input_shape, dtype='int32')\n",
        "    \n",
        "    # Create the embedding layer pretrained with GloVe Vectors (≈1 line)\n",
        "    embedding_layer = pretrained_embedding_layer(word_to_vec_map, word_to_index)\n",
        "    \n",
        "    # Propagate sentence_indices through your embedding layer\n",
        "    # (See additional hints in the instructions).\n",
        "    embeddings = embedding_layer(sentence_indices)   \n",
        "    \n",
        "    # Propagate the embeddings through an LSTM layer with 128-dimensional hidden state\n",
        "    # The returned output should be a batch of sequences.\n",
        "    X = LSTM(units = 128, return_sequences = True)(embeddings)\n",
        "    # Add dropout with a probability of 0.5\n",
        "    X = Dropout(rate=0.5)(X)\n",
        "    # Propagate X trough another LSTM layer with 128-dimensional hidden state\n",
        "    # The returned output should be a single hidden state, not a batch of sequences.\n",
        "    X = LSTM(units=64, return_sequences = False)(X)\n",
        "    # Add dropout with a probability of 0.5\n",
        "    X = Dropout(rate=0.5)(X)\n",
        "    # Propagate X through a Dense layer with 5 units\n",
        "    X = Dense(units=1)(X)\n",
        "    # Add a softmax activation\n",
        "    X = Activation('sigmoid')(X)\n",
        "    \n",
        "    # Create Model instance which converts sentence_indices into X.\n",
        "    model = Model(inputs=sentence_indices, outputs= X)\n",
        "    \n",
        "    ### END CODE HERE ###\n",
        "    \n",
        "    return model"
      ],
      "metadata": {
        "id": "Ou867jJ5oERE"
      },
      "execution_count": 14,
      "outputs": []
    },
    {
      "cell_type": "code",
      "source": [
        "maxLen = len(max(train_x, key=len).split())\n",
        "model = sentiment_analyze((maxLen,), word_to_vec_map, word_to_index)\n",
        "model.summary()"
      ],
      "metadata": {
        "colab": {
          "base_uri": "https://localhost:8080/"
        },
        "id": "fA-bBcObopE9",
        "outputId": "d0baa4d7-7970-43f0-9581-fa14c32ac93b"
      },
      "execution_count": 17,
      "outputs": [
        {
          "output_type": "stream",
          "name": "stdout",
          "text": [
            "Model: \"model_1\"\n",
            "_________________________________________________________________\n",
            " Layer (type)                Output Shape              Param #   \n",
            "=================================================================\n",
            " input_2 (InputLayer)        [(None, 28)]              0         \n",
            "                                                                 \n",
            " embedding_1 (Embedding)     (None, 28, 50)            20000050  \n",
            "                                                                 \n",
            " lstm_2 (LSTM)               (None, 28, 128)           91648     \n",
            "                                                                 \n",
            " dropout_2 (Dropout)         (None, 28, 128)           0         \n",
            "                                                                 \n",
            " lstm_3 (LSTM)               (None, 64)                49408     \n",
            "                                                                 \n",
            " dropout_3 (Dropout)         (None, 64)                0         \n",
            "                                                                 \n",
            " dense_1 (Dense)             (None, 1)                 65        \n",
            "                                                                 \n",
            " activation_1 (Activation)   (None, 1)                 0         \n",
            "                                                                 \n",
            "=================================================================\n",
            "Total params: 20,141,171\n",
            "Trainable params: 141,121\n",
            "Non-trainable params: 20,000,050\n",
            "_________________________________________________________________\n"
          ]
        }
      ]
    },
    {
      "cell_type": "code",
      "source": [
        "model.compile(loss=tf.keras.losses.BinaryCrossentropy(), optimizer='adam', metrics=['accuracy'])"
      ],
      "metadata": {
        "id": "PPWt13ZzrvMX"
      },
      "execution_count": 18,
      "outputs": []
    },
    {
      "cell_type": "code",
      "source": [
        "X_train_indices = sentences_to_indices(np.array(train_x + val_x), word_to_index, maxLen)\n",
        "X_train_indices[0]"
      ],
      "metadata": {
        "colab": {
          "base_uri": "https://localhost:8080/"
        },
        "id": "SuajDZzyrxnu",
        "outputId": "b67d757a-5868-4d0f-dd96-61b3b81821d0"
      },
      "execution_count": 19,
      "outputs": [
        {
          "output_type": "execute_result",
          "data": {
            "text/plain": [
              "array([362050., 137337., 240688., 106074., 384714.,  42869.,      0.,\n",
              "            0.,      0.,      0.,      0.,      0.,      0.,      0.,\n",
              "            0.,      0.,      0.,      0.,      0.,      0.,      0.,\n",
              "            0.,      0.,      0.,      0.,      0.,      0.,      0.])"
            ]
          },
          "metadata": {},
          "execution_count": 19
        }
      ]
    },
    {
      "cell_type": "code",
      "source": [
        "history = model.fit(X_train_indices, np.append(train_y, val_y), validation_split=0.2, epochs = 50, batch_size = 32, shuffle=True)"
      ],
      "metadata": {
        "id": "ethmnc9ar1re",
        "colab": {
          "base_uri": "https://localhost:8080/"
        },
        "outputId": "fe73e016-5079-46c3-8021-2ba3f66fa641"
      },
      "execution_count": 20,
      "outputs": [
        {
          "output_type": "stream",
          "name": "stdout",
          "text": [
            "Epoch 1/50\n",
            "250/250 [==============================] - 21s 68ms/step - loss: 0.1412 - accuracy: 0.9461 - val_loss: 0.0566 - val_accuracy: 0.9830\n",
            "Epoch 2/50\n",
            "250/250 [==============================] - 16s 65ms/step - loss: 0.0416 - accuracy: 0.9865 - val_loss: 0.0398 - val_accuracy: 0.9870\n",
            "Epoch 3/50\n",
            "250/250 [==============================] - 17s 68ms/step - loss: 0.0263 - accuracy: 0.9937 - val_loss: 0.0314 - val_accuracy: 0.9935\n",
            "Epoch 4/50\n",
            "250/250 [==============================] - 16s 64ms/step - loss: 0.0239 - accuracy: 0.9944 - val_loss: 0.0262 - val_accuracy: 0.9890\n",
            "Epoch 5/50\n",
            "250/250 [==============================] - 16s 62ms/step - loss: 0.0207 - accuracy: 0.9950 - val_loss: 0.0187 - val_accuracy: 0.9945\n",
            "Epoch 6/50\n",
            "250/250 [==============================] - 16s 63ms/step - loss: 0.0189 - accuracy: 0.9958 - val_loss: 0.0200 - val_accuracy: 0.9940\n",
            "Epoch 7/50\n",
            "250/250 [==============================] - 16s 62ms/step - loss: 0.0210 - accuracy: 0.9946 - val_loss: 0.0381 - val_accuracy: 0.9925\n",
            "Epoch 8/50\n",
            "250/250 [==============================] - 16s 63ms/step - loss: 0.0321 - accuracy: 0.9925 - val_loss: 0.0293 - val_accuracy: 0.9930\n",
            "Epoch 9/50\n",
            "250/250 [==============================] - 15s 61ms/step - loss: 0.0269 - accuracy: 0.9946 - val_loss: 0.0160 - val_accuracy: 0.9960\n",
            "Epoch 10/50\n",
            "250/250 [==============================] - 16s 62ms/step - loss: 0.0186 - accuracy: 0.9961 - val_loss: 0.0287 - val_accuracy: 0.9935\n",
            "Epoch 11/50\n",
            "250/250 [==============================] - 16s 64ms/step - loss: 0.0225 - accuracy: 0.9942 - val_loss: 0.0282 - val_accuracy: 0.9945\n",
            "Epoch 12/50\n",
            "250/250 [==============================] - 16s 63ms/step - loss: 0.0184 - accuracy: 0.9959 - val_loss: 0.0228 - val_accuracy: 0.9950\n",
            "Epoch 13/50\n",
            "250/250 [==============================] - 16s 63ms/step - loss: 0.0172 - accuracy: 0.9961 - val_loss: 0.0274 - val_accuracy: 0.9945\n",
            "Epoch 14/50\n",
            "250/250 [==============================] - 17s 68ms/step - loss: 0.0178 - accuracy: 0.9964 - val_loss: 0.0435 - val_accuracy: 0.9910\n",
            "Epoch 15/50\n",
            "250/250 [==============================] - 16s 63ms/step - loss: 0.0185 - accuracy: 0.9956 - val_loss: 0.0199 - val_accuracy: 0.9950\n",
            "Epoch 16/50\n",
            "250/250 [==============================] - 16s 63ms/step - loss: 0.0168 - accuracy: 0.9962 - val_loss: 0.0237 - val_accuracy: 0.9950\n",
            "Epoch 17/50\n",
            "250/250 [==============================] - 16s 63ms/step - loss: 0.0171 - accuracy: 0.9964 - val_loss: 0.0291 - val_accuracy: 0.9945\n",
            "Epoch 18/50\n",
            "250/250 [==============================] - 16s 63ms/step - loss: 0.0165 - accuracy: 0.9964 - val_loss: 0.0191 - val_accuracy: 0.9940\n",
            "Epoch 19/50\n",
            "250/250 [==============================] - 16s 62ms/step - loss: 0.0168 - accuracy: 0.9965 - val_loss: 0.0304 - val_accuracy: 0.9945\n",
            "Epoch 20/50\n",
            "250/250 [==============================] - 15s 62ms/step - loss: 0.0154 - accuracy: 0.9965 - val_loss: 0.0305 - val_accuracy: 0.9940\n",
            "Epoch 21/50\n",
            "250/250 [==============================] - 16s 63ms/step - loss: 0.0152 - accuracy: 0.9969 - val_loss: 0.0317 - val_accuracy: 0.9940\n",
            "Epoch 22/50\n",
            "250/250 [==============================] - 16s 64ms/step - loss: 0.0160 - accuracy: 0.9966 - val_loss: 0.0232 - val_accuracy: 0.9945\n",
            "Epoch 23/50\n",
            "250/250 [==============================] - 16s 64ms/step - loss: 0.0166 - accuracy: 0.9964 - val_loss: 0.0283 - val_accuracy: 0.9930\n",
            "Epoch 24/50\n",
            "250/250 [==============================] - 16s 65ms/step - loss: 0.0163 - accuracy: 0.9962 - val_loss: 0.0160 - val_accuracy: 0.9955\n",
            "Epoch 25/50\n",
            "250/250 [==============================] - 18s 72ms/step - loss: 0.0147 - accuracy: 0.9970 - val_loss: 0.0230 - val_accuracy: 0.9950\n",
            "Epoch 26/50\n",
            "250/250 [==============================] - 16s 64ms/step - loss: 0.0156 - accuracy: 0.9965 - val_loss: 0.0135 - val_accuracy: 0.9965\n",
            "Epoch 27/50\n",
            "250/250 [==============================] - 17s 67ms/step - loss: 0.0280 - accuracy: 0.9941 - val_loss: 0.0180 - val_accuracy: 0.9960\n",
            "Epoch 28/50\n",
            "250/250 [==============================] - 16s 65ms/step - loss: 0.0169 - accuracy: 0.9964 - val_loss: 0.0402 - val_accuracy: 0.9930\n",
            "Epoch 29/50\n",
            "250/250 [==============================] - 16s 64ms/step - loss: 0.0169 - accuracy: 0.9959 - val_loss: 0.0237 - val_accuracy: 0.9955\n",
            "Epoch 30/50\n",
            "250/250 [==============================] - 15s 60ms/step - loss: 0.0144 - accuracy: 0.9971 - val_loss: 0.0246 - val_accuracy: 0.9945\n",
            "Epoch 31/50\n",
            "250/250 [==============================] - 16s 62ms/step - loss: 0.0135 - accuracy: 0.9974 - val_loss: 0.0318 - val_accuracy: 0.9940\n",
            "Epoch 32/50\n",
            "250/250 [==============================] - 16s 65ms/step - loss: 0.0162 - accuracy: 0.9965 - val_loss: 0.0169 - val_accuracy: 0.9955\n",
            "Epoch 33/50\n",
            "250/250 [==============================] - 15s 60ms/step - loss: 0.0143 - accuracy: 0.9971 - val_loss: 0.0157 - val_accuracy: 0.9950\n",
            "Epoch 34/50\n",
            "250/250 [==============================] - 17s 67ms/step - loss: 0.0130 - accuracy: 0.9973 - val_loss: 0.0219 - val_accuracy: 0.9945\n",
            "Epoch 35/50\n",
            "250/250 [==============================] - 16s 64ms/step - loss: 0.0149 - accuracy: 0.9970 - val_loss: 0.0279 - val_accuracy: 0.9940\n",
            "Epoch 36/50\n",
            "250/250 [==============================] - 18s 71ms/step - loss: 0.0135 - accuracy: 0.9967 - val_loss: 0.0145 - val_accuracy: 0.9960\n",
            "Epoch 37/50\n",
            "250/250 [==============================] - 16s 66ms/step - loss: 0.0123 - accuracy: 0.9977 - val_loss: 0.0160 - val_accuracy: 0.9960\n",
            "Epoch 38/50\n",
            "250/250 [==============================] - 16s 62ms/step - loss: 0.0107 - accuracy: 0.9981 - val_loss: 0.0197 - val_accuracy: 0.9950\n",
            "Epoch 39/50\n",
            "250/250 [==============================] - 16s 63ms/step - loss: 0.0117 - accuracy: 0.9977 - val_loss: 0.0183 - val_accuracy: 0.9945\n",
            "Epoch 40/50\n",
            "250/250 [==============================] - 17s 67ms/step - loss: 0.0116 - accuracy: 0.9977 - val_loss: 0.0183 - val_accuracy: 0.9960\n",
            "Epoch 41/50\n",
            "250/250 [==============================] - 16s 63ms/step - loss: 0.0108 - accuracy: 0.9981 - val_loss: 0.0165 - val_accuracy: 0.9960\n",
            "Epoch 42/50\n",
            "250/250 [==============================] - 15s 61ms/step - loss: 0.0109 - accuracy: 0.9980 - val_loss: 0.0268 - val_accuracy: 0.9950\n",
            "Epoch 43/50\n",
            "250/250 [==============================] - 16s 63ms/step - loss: 0.0127 - accuracy: 0.9973 - val_loss: 0.0190 - val_accuracy: 0.9955\n",
            "Epoch 44/50\n",
            "250/250 [==============================] - 16s 63ms/step - loss: 0.0139 - accuracy: 0.9973 - val_loss: 0.0273 - val_accuracy: 0.9935\n",
            "Epoch 45/50\n",
            "250/250 [==============================] - 16s 63ms/step - loss: 0.0200 - accuracy: 0.9955 - val_loss: 0.0167 - val_accuracy: 0.9945\n",
            "Epoch 46/50\n",
            "250/250 [==============================] - 16s 63ms/step - loss: 0.0157 - accuracy: 0.9965 - val_loss: 0.0140 - val_accuracy: 0.9945\n",
            "Epoch 47/50\n",
            "250/250 [==============================] - 18s 71ms/step - loss: 0.0117 - accuracy: 0.9975 - val_loss: 0.0231 - val_accuracy: 0.9935\n",
            "Epoch 48/50\n",
            "250/250 [==============================] - 16s 65ms/step - loss: 0.0095 - accuracy: 0.9981 - val_loss: 0.0260 - val_accuracy: 0.9935\n",
            "Epoch 49/50\n",
            "250/250 [==============================] - 16s 63ms/step - loss: 0.0103 - accuracy: 0.9983 - val_loss: 0.0228 - val_accuracy: 0.9955\n",
            "Epoch 50/50\n",
            "250/250 [==============================] - 16s 66ms/step - loss: 0.0152 - accuracy: 0.9964 - val_loss: 0.0150 - val_accuracy: 0.9965\n"
          ]
        }
      ]
    },
    {
      "cell_type": "code",
      "source": [
        "X_test_indices = sentences_to_indices(np.array(val_x), word_to_index, max_len = maxLen)\n",
        "loss, acc = model.evaluate(X_test_indices, val_y)\n",
        "print()\n",
        "print(\"Test accuracy = \", acc)"
      ],
      "metadata": {
        "id": "NpktSqdzsAi1",
        "colab": {
          "base_uri": "https://localhost:8080/"
        },
        "outputId": "c41c8e8f-f927-4441-c8ba-971628d5df8d"
      },
      "execution_count": 21,
      "outputs": [
        {
          "output_type": "stream",
          "name": "stdout",
          "text": [
            "63/63 [==============================] - 1s 23ms/step - loss: 0.0150 - accuracy: 0.9965\n",
            "\n",
            "Test accuracy =  0.9965000152587891\n"
          ]
        }
      ]
    },
    {
      "cell_type": "code",
      "source": [
        "import matplotlib.pyplot as plt\n",
        "plt.plot(history.history['accuracy'], label='train')\n",
        "plt.plot(history.history['val_accuracy'], label='val')\n",
        "plt.legend()"
      ],
      "metadata": {
        "id": "xklSmjDRxZ-O",
        "colab": {
          "base_uri": "https://localhost:8080/",
          "height": 283
        },
        "outputId": "d232ce0c-d425-4820-8c63-39fa111a628b"
      },
      "execution_count": 22,
      "outputs": [
        {
          "output_type": "execute_result",
          "data": {
            "text/plain": [
              "<matplotlib.legend.Legend at 0x7f9daa802b20>"
            ]
          },
          "metadata": {},
          "execution_count": 22
        },
        {
          "output_type": "display_data",
          "data": {
            "text/plain": [
              "<Figure size 432x288 with 1 Axes>"
            ],
            "image/png": "[encoded data removed]"
          },
          "metadata": {
            "needs_background": "light"
          }
        }
      ]
    }
  ]
}